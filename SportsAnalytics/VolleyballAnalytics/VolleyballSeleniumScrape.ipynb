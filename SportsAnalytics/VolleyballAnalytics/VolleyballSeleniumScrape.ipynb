{
 "cells": [
  {
   "cell_type": "code",
   "execution_count": 20,
   "id": "129bf238-ecc5-427c-9c41-5428a91aaca9",
   "metadata": {},
   "outputs": [],
   "source": [
    "from selenium import webdriver\n",
    "from selenium.webdriver.chrome.service import Service as ChromeService\n",
    "from webdriver_manager.chrome import ChromeDriverManager\n",
    "from selenium.webdriver.common.by import By\n",
    "from selenium.webdriver.common.keys import Keys\n",
    "import time\n",
    "\n",
    "# Install and set up Chrome WebDriver\n",
    "service = ChromeService(executable_path=ChromeDriverManager().install())\n",
    "options = webdriver.ChromeOptions()\n",
    "\n",
    "# Initialize the WebDriver\n",
    "driver = webdriver.Chrome(service=service, options=options)\n",
    "\n",
    "# Open the URL for VolleyMetrics Website\n",
    "driver.get(\"https://www.hudl.com/products/volleymetrics\")\n",
    "\n",
    "# Use Xpath to log in /html/body/div[1]/header/div/div[2]/a\n",
    "\n",
    "login_button = driver.find_element(By.XPATH, \"/html/body/div[1]/header/div/div[2]/a\")\n",
    "login_button.click()\n",
    "\n",
    "#Need to use another XPATH to get to the full log in site\n",
    "volleymetrics_button = driver.find_element(By.XPATH, \"/html/body/div[1]/header/div/div[2]/div/div/div/div/a[1]/span\")\n",
    "volleymetrics_button.click()"
   ]
  },
  {
   "cell_type": "code",
   "execution_count": 19,
   "id": "eeb55145-3510-44e5-beb3-c41dc1054301",
   "metadata": {},
   "outputs": [
    {
     "ename": "NoSuchElementException",
     "evalue": "Message: no such element: Unable to locate element: {\"method\":\"xpath\",\"selector\":\"//*[@id=\"username\"]\"}\n  (Session info: chrome=124.0.6367.209); For documentation on this error, please visit: https://www.selenium.dev/documentation/webdriver/troubleshooting/errors#no-such-element-exception\nStacktrace:\n0   chromedriver                        0x0000000109213a78 chromedriver + 5216888\n1   chromedriver                        0x000000010920b6b3 chromedriver + 5183155\n2   chromedriver                        0x0000000108d7d527 chromedriver + 406823\n3   chromedriver                        0x0000000108dc8ff2 chromedriver + 716786\n4   chromedriver                        0x0000000108dc9181 chromedriver + 717185\n5   chromedriver                        0x0000000108e0d1d4 chromedriver + 995796\n6   chromedriver                        0x0000000108deb72d chromedriver + 857901\n7   chromedriver                        0x0000000108e0a6bf chromedriver + 984767\n8   chromedriver                        0x0000000108deb4a3 chromedriver + 857251\n9   chromedriver                        0x0000000108dbbfe3 chromedriver + 663523\n10  chromedriver                        0x0000000108dbc92e chromedriver + 665902\n11  chromedriver                        0x00000001091d1990 chromedriver + 4946320\n12  chromedriver                        0x00000001091d7a44 chromedriver + 4971076\n13  chromedriver                        0x00000001091b248e chromedriver + 4818062\n14  chromedriver                        0x00000001091d8559 chromedriver + 4973913\n15  chromedriver                        0x00000001091a2714 chromedriver + 4753172\n16  chromedriver                        0x00000001091fac08 chromedriver + 5114888\n17  chromedriver                        0x00000001091fadc7 chromedriver + 5115335\n18  chromedriver                        0x000000010920b2d3 chromedriver + 5182163\n19  libsystem_pthread.dylib             0x00007fff2063b8fc _pthread_start + 224\n20  libsystem_pthread.dylib             0x00007fff20637443 thread_start + 15\n",
     "output_type": "error",
     "traceback": [
      "\u001b[0;31m---------------------------------------------------------------------------\u001b[0m",
      "\u001b[0;31mNoSuchElementException\u001b[0m                    Traceback (most recent call last)",
      "Cell \u001b[0;32mIn[19], line 2\u001b[0m\n\u001b[1;32m      1\u001b[0m \u001b[38;5;66;03m# Find and input username\u001b[39;00m\n\u001b[0;32m----> 2\u001b[0m username \u001b[38;5;241m=\u001b[39m \u001b[43mdriver\u001b[49m\u001b[38;5;241;43m.\u001b[39;49m\u001b[43mfind_element\u001b[49m\u001b[43m(\u001b[49m\u001b[43mBy\u001b[49m\u001b[38;5;241;43m.\u001b[39;49m\u001b[43mXPATH\u001b[49m\u001b[43m,\u001b[49m\u001b[43m \u001b[49m\u001b[38;5;124;43m'\u001b[39;49m\u001b[38;5;124;43m//*[@id=\u001b[39;49m\u001b[38;5;124;43m\"\u001b[39;49m\u001b[38;5;124;43musername\u001b[39;49m\u001b[38;5;124;43m\"\u001b[39;49m\u001b[38;5;124;43m]\u001b[39;49m\u001b[38;5;124;43m'\u001b[39;49m\u001b[43m)\u001b[49m\n\u001b[1;32m      3\u001b[0m username\u001b[38;5;241m.\u001b[39msend_keys(\u001b[38;5;124m\"\u001b[39m\u001b[38;5;124minsertUsername here\u001b[39m\u001b[38;5;124m\"\u001b[39m)\n\u001b[1;32m      5\u001b[0m \u001b[38;5;66;03m# Find and input password\u001b[39;00m\n",
      "File \u001b[0;32m/Library/Frameworks/Python.framework/Versions/3.12/lib/python3.12/site-packages/selenium/webdriver/remote/webdriver.py:741\u001b[0m, in \u001b[0;36mWebDriver.find_element\u001b[0;34m(self, by, value)\u001b[0m\n\u001b[1;32m    738\u001b[0m     by \u001b[38;5;241m=\u001b[39m By\u001b[38;5;241m.\u001b[39mCSS_SELECTOR\n\u001b[1;32m    739\u001b[0m     value \u001b[38;5;241m=\u001b[39m \u001b[38;5;124mf\u001b[39m\u001b[38;5;124m'\u001b[39m\u001b[38;5;124m[name=\u001b[39m\u001b[38;5;124m\"\u001b[39m\u001b[38;5;132;01m{\u001b[39;00mvalue\u001b[38;5;132;01m}\u001b[39;00m\u001b[38;5;124m\"\u001b[39m\u001b[38;5;124m]\u001b[39m\u001b[38;5;124m'\u001b[39m\n\u001b[0;32m--> 741\u001b[0m \u001b[38;5;28;01mreturn\u001b[39;00m \u001b[38;5;28;43mself\u001b[39;49m\u001b[38;5;241;43m.\u001b[39;49m\u001b[43mexecute\u001b[49m\u001b[43m(\u001b[49m\u001b[43mCommand\u001b[49m\u001b[38;5;241;43m.\u001b[39;49m\u001b[43mFIND_ELEMENT\u001b[49m\u001b[43m,\u001b[49m\u001b[43m \u001b[49m\u001b[43m{\u001b[49m\u001b[38;5;124;43m\"\u001b[39;49m\u001b[38;5;124;43musing\u001b[39;49m\u001b[38;5;124;43m\"\u001b[39;49m\u001b[43m:\u001b[49m\u001b[43m \u001b[49m\u001b[43mby\u001b[49m\u001b[43m,\u001b[49m\u001b[43m \u001b[49m\u001b[38;5;124;43m\"\u001b[39;49m\u001b[38;5;124;43mvalue\u001b[39;49m\u001b[38;5;124;43m\"\u001b[39;49m\u001b[43m:\u001b[49m\u001b[43m \u001b[49m\u001b[43mvalue\u001b[49m\u001b[43m}\u001b[49m\u001b[43m)\u001b[49m[\u001b[38;5;124m\"\u001b[39m\u001b[38;5;124mvalue\u001b[39m\u001b[38;5;124m\"\u001b[39m]\n",
      "File \u001b[0;32m/Library/Frameworks/Python.framework/Versions/3.12/lib/python3.12/site-packages/selenium/webdriver/remote/webdriver.py:347\u001b[0m, in \u001b[0;36mWebDriver.execute\u001b[0;34m(self, driver_command, params)\u001b[0m\n\u001b[1;32m    345\u001b[0m response \u001b[38;5;241m=\u001b[39m \u001b[38;5;28mself\u001b[39m\u001b[38;5;241m.\u001b[39mcommand_executor\u001b[38;5;241m.\u001b[39mexecute(driver_command, params)\n\u001b[1;32m    346\u001b[0m \u001b[38;5;28;01mif\u001b[39;00m response:\n\u001b[0;32m--> 347\u001b[0m     \u001b[38;5;28;43mself\u001b[39;49m\u001b[38;5;241;43m.\u001b[39;49m\u001b[43merror_handler\u001b[49m\u001b[38;5;241;43m.\u001b[39;49m\u001b[43mcheck_response\u001b[49m\u001b[43m(\u001b[49m\u001b[43mresponse\u001b[49m\u001b[43m)\u001b[49m\n\u001b[1;32m    348\u001b[0m     response[\u001b[38;5;124m\"\u001b[39m\u001b[38;5;124mvalue\u001b[39m\u001b[38;5;124m\"\u001b[39m] \u001b[38;5;241m=\u001b[39m \u001b[38;5;28mself\u001b[39m\u001b[38;5;241m.\u001b[39m_unwrap_value(response\u001b[38;5;241m.\u001b[39mget(\u001b[38;5;124m\"\u001b[39m\u001b[38;5;124mvalue\u001b[39m\u001b[38;5;124m\"\u001b[39m, \u001b[38;5;28;01mNone\u001b[39;00m))\n\u001b[1;32m    349\u001b[0m     \u001b[38;5;28;01mreturn\u001b[39;00m response\n",
      "File \u001b[0;32m/Library/Frameworks/Python.framework/Versions/3.12/lib/python3.12/site-packages/selenium/webdriver/remote/errorhandler.py:229\u001b[0m, in \u001b[0;36mErrorHandler.check_response\u001b[0;34m(self, response)\u001b[0m\n\u001b[1;32m    227\u001b[0m         alert_text \u001b[38;5;241m=\u001b[39m value[\u001b[38;5;124m\"\u001b[39m\u001b[38;5;124malert\u001b[39m\u001b[38;5;124m\"\u001b[39m]\u001b[38;5;241m.\u001b[39mget(\u001b[38;5;124m\"\u001b[39m\u001b[38;5;124mtext\u001b[39m\u001b[38;5;124m\"\u001b[39m)\n\u001b[1;32m    228\u001b[0m     \u001b[38;5;28;01mraise\u001b[39;00m exception_class(message, screen, stacktrace, alert_text)  \u001b[38;5;66;03m# type: ignore[call-arg]  # mypy is not smart enough here\u001b[39;00m\n\u001b[0;32m--> 229\u001b[0m \u001b[38;5;28;01mraise\u001b[39;00m exception_class(message, screen, stacktrace)\n",
      "\u001b[0;31mNoSuchElementException\u001b[0m: Message: no such element: Unable to locate element: {\"method\":\"xpath\",\"selector\":\"//*[@id=\"username\"]\"}\n  (Session info: chrome=124.0.6367.209); For documentation on this error, please visit: https://www.selenium.dev/documentation/webdriver/troubleshooting/errors#no-such-element-exception\nStacktrace:\n0   chromedriver                        0x0000000109213a78 chromedriver + 5216888\n1   chromedriver                        0x000000010920b6b3 chromedriver + 5183155\n2   chromedriver                        0x0000000108d7d527 chromedriver + 406823\n3   chromedriver                        0x0000000108dc8ff2 chromedriver + 716786\n4   chromedriver                        0x0000000108dc9181 chromedriver + 717185\n5   chromedriver                        0x0000000108e0d1d4 chromedriver + 995796\n6   chromedriver                        0x0000000108deb72d chromedriver + 857901\n7   chromedriver                        0x0000000108e0a6bf chromedriver + 984767\n8   chromedriver                        0x0000000108deb4a3 chromedriver + 857251\n9   chromedriver                        0x0000000108dbbfe3 chromedriver + 663523\n10  chromedriver                        0x0000000108dbc92e chromedriver + 665902\n11  chromedriver                        0x00000001091d1990 chromedriver + 4946320\n12  chromedriver                        0x00000001091d7a44 chromedriver + 4971076\n13  chromedriver                        0x00000001091b248e chromedriver + 4818062\n14  chromedriver                        0x00000001091d8559 chromedriver + 4973913\n15  chromedriver                        0x00000001091a2714 chromedriver + 4753172\n16  chromedriver                        0x00000001091fac08 chromedriver + 5114888\n17  chromedriver                        0x00000001091fadc7 chromedriver + 5115335\n18  chromedriver                        0x000000010920b2d3 chromedriver + 5182163\n19  libsystem_pthread.dylib             0x00007fff2063b8fc _pthread_start + 224\n20  libsystem_pthread.dylib             0x00007fff20637443 thread_start + 15\n"
     ]
    }
   ],
   "source": [
    "# Find and input username\n",
    "username = driver.find_element(By.XPATH, '//*[@id=\"email\"]')\n",
    "username.send_keys(\"insertUsername here\")\n",
    "\n",
    "# Find and input password\n",
    "password = driver.find_element(By.XPATH, '//*[@id=\"password\"]')\n",
    "password.send_keys(\"insertPassword here\")\n",
    "\n",
    "# Click on the login button\n",
    "login = driver.find_element(By.XPATH, \"//*[@id=\"logIn\"]\")\n",
    "login.click()\n",
    "\n",
    "# Click on the Stats menu\n",
    "stats = driver.find_element(By.XPATH, \"/html/body/div[2]/div[2]/div/div/div/div[3]/div[1]/left-menu/div/div[1]/left-menu-button[5]/a/div/div[2]/span[text()='Stats']\")\n",
    "stats.click()\n",
    "\n",
    "# Input year\n",
    "year = driver.find_element(By.XPATH, \"/html/body/div[2]/div[2]/div/div/div/div[3]/div[2]/div[1]/div/div[1]/vm-input-box[3]/div/div/input\")\n",
    "\n",
    "year.clear()\n",
    "year.send_keys(\"2022\")\n",
    "year.send_keys(Keys.ENTER)\n",
    "\n",
    "# Input team (Texas)\n",
    "team = driver.find_element(By.XPATH, \"/html/body/div[2]/div[2]/div/div/div/div[3]/div[2]/div[1]/div/div[1]/vm-input-box[2]/div/div/input\")\n",
    "team.clear()\n",
    "team.send_keys(\"\\ue03d\")  # Click on dropdown\n",
    "team.send_keys(Keys.BACK_SPACE)\n",
    "team.send_keys(\"Texas\")\n",
    "team.send_keys(Keys.ENTER)\n",
    "\n",
    "# Input team (Marquette)\n",
    "team.clear()\n",
    "team.send_keys(\"\\ue03d\")  # Click on dropdown\n",
    "team.send_keys(Keys.BACK_SPACE)\n",
    "team.send_keys(\"Marquette\")\n",
    "team.send_keys(Keys.ENTER)\n",
    "\n",
    "# Wait for the page to load\n",
    "time.sleep(3)\n",
    "\n",
    "# Get Ace Percentage\n",
    "ace_pct = driver.find_element(By.XPATH, \"/html/body/div[2]/div[2]/div/div/div/div[3]/div[2]/div[1]/div/stats-table/div/div[1]/div[2]/div[2]/div[3]/div[13]/span\")\n",
    "ace_pct_text = ace_pct.text\n",
    "print(\"Ace Percentage:\", ace_pct_text)\n",
    "\n",
    "# Get Serve Error Percentage\n",
    "serve_error_pct = driver.find_element(By.XPATH, \"/html/body/div[2]/div[2]/div/div/div/div[3]/div[2]/div[1]/div/stats-table/div/div[1]/div[2]/div[2]/div[3]/div[15]/span\")\n",
    "serve_error_pct_text = serve_error_pct.text\n",
    "print(\"Serve Error Percentage:\", serve_error_pct_text)\n",
    "\n",
    "# Close the WebDriver\n",
    "driver.quit()\n",
    "\n",
    "#With this frame work, you can find the names of teams that you want to scrape from this site, and allow Selenium to scrape from\n",
    "#Javascript sites with less work"
   ]
  },
  {
   "cell_type": "code",
   "execution_count": null,
   "id": "bf77707c-04ec-49fd-98fd-5263b588bf03",
   "metadata": {},
   "outputs": [],
   "source": []
  }
 ],
 "metadata": {
  "kernelspec": {
   "display_name": "Python 3 (ipykernel)",
   "language": "python",
   "name": "python3"
  },
  "language_info": {
   "codemirror_mode": {
    "name": "ipython",
    "version": 3
   },
   "file_extension": ".py",
   "mimetype": "text/x-python",
   "name": "python",
   "nbconvert_exporter": "python",
   "pygments_lexer": "ipython3",
   "version": "3.12.3"
  }
 },
 "nbformat": 4,
 "nbformat_minor": 5
}
